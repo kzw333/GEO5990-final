{
  "cells": [
    {
      "cell_type": "markdown",
      "metadata": {
        "id": "view-in-github",
        "colab_type": "text"
      },
      "source": [
        "<a href=\"https://colab.research.google.com/github/kzw333/GEO5990-final/blob/main/geog5990m_final_project_template.ipynb\" target=\"_parent\"><img src=\"https://colab.research.google.com/assets/colab-badge.svg\" alt=\"Open In Colab\"/></a>"
      ]
    },
    {
      "cell_type": "markdown",
      "id": "1e1694b4-0ff8-4e25-8c21-756e23ce6972",
      "metadata": {
        "id": "1e1694b4-0ff8-4e25-8c21-756e23ce6972"
      },
      "source": [
        "# GEOG5990M Final Assignment (Template)\n",
        "\n",
        "Student ID number:"
      ]
    },
    {
      "cell_type": "code",
      "execution_count": 6,
      "id": "1d435d17-0eb5-4238-b242-8e202462c4d9",
      "metadata": {
        "id": "1d435d17-0eb5-4238-b242-8e202462c4d9"
      },
      "outputs": [],
      "source": [
        "# read in required packages\n",
        "# import required packages\n",
        "import pandas as pd\n",
        "import matplotlib.pyplot as plt\n",
        "import seaborn as sns\n",
        "import numpy as np"
      ]
    },
    {
      "cell_type": "code",
      "execution_count": null,
      "id": "c3540d43-fbe5-48a1-9d2a-79b3c38f7bdf",
      "metadata": {
        "id": "c3540d43-fbe5-48a1-9d2a-79b3c38f7bdf"
      },
      "outputs": [],
      "source": []
    },
    {
      "cell_type": "markdown",
      "id": "6fea5785-5aed-491a-ace3-5ad07d446e4c",
      "metadata": {
        "id": "6fea5785-5aed-491a-ace3-5ad07d446e4c"
      },
      "source": [
        "This is an example block of mardown text I want to reference <a href=\"#ref1\">[1]</a>. I might need to add some more citations <a href=\"#ref2\">[2]</a><a href=\"#ref2\">[3]</a>\n",
        "\n"
      ]
    },
    {
      "cell_type": "code",
      "execution_count": 25,
      "id": "b4b3f4ce-f5f6-471e-ae7b-6224b75ffec4",
      "metadata": {
        "id": "b4b3f4ce-f5f6-471e-ae7b-6224b75ffec4",
        "outputId": "91aa0356-50b0-45c5-9460-f1a5d62f222a",
        "colab": {
          "base_uri": "https://localhost:8080/",
          "height": 1000
        }
      },
      "outputs": [
        {
          "output_type": "stream",
          "name": "stdout",
          "text": [
            "       Unnamed: 0    lsoa_cd  median_95Q1  median_95Q2  median_95Q3  \\\n",
            "1               2  E01000001      99500.0     112475.0     123500.0   \n",
            "2               3  E01000002     110000.0     135000.0     112500.0   \n",
            "3               4  E01000003      75000.0      64200.0      66000.0   \n",
            "4               5  E01000005      52125.0      52995.0      61000.0   \n",
            "5               6  E01000006      68000.0      79995.0      61000.0   \n",
            "...           ...        ...          ...          ...          ...   \n",
            "34751       34752  W01001954      71050.0      82500.0     105000.0   \n",
            "34752       34753  W01001955      30000.0      52995.0     250000.0   \n",
            "34753       34754  W01001956      61225.0      65500.0      56875.0   \n",
            "34754       34755  W01001957      60000.0      42000.0      33500.0   \n",
            "34755       34756  W01001958      52125.0      31000.0      76000.0   \n",
            "\n",
            "       median_95Q4  median_96Q1  median_96Q2  median_96Q3  median_96Q4  ...  \\\n",
            "1         104671.0     129000.0     129750.0     152500.0     169375.0  ...   \n",
            "2         132000.0     119275.0     112000.0     135000.0     117500.0  ...   \n",
            "3          92000.0      90000.0      65000.0      73000.0      90000.0  ...   \n",
            "4          52500.0      55000.0      70000.0      54875.0      55000.0  ...   \n",
            "5          67000.0      62497.5      69000.0      71000.0      74000.0  ...   \n",
            "...            ...          ...          ...          ...          ...  ...   \n",
            "34751      78500.0      90000.0      93500.0     104000.0     105000.0  ...   \n",
            "34752      20000.0      33000.0      53000.0      25000.0      55000.0  ...   \n",
            "34753      57750.0      50000.0      49000.0      67000.0      59375.0  ...   \n",
            "34754      48000.0      38750.0      27500.0      45000.0      51500.0  ...   \n",
            "34755      52500.0      52250.0      81250.0      23750.0      68225.0  ...   \n",
            "\n",
            "       median_16Q3  median_16Q4  median_17Q1  median_17Q2  median_17Q3  \\\n",
            "1         880000.0     972500.0    1085000.0     872500.0     972500.0   \n",
            "2         852500.0     937500.0     960000.0     970000.0     849950.0   \n",
            "3         795000.0     686250.0     751875.0     760000.0     830000.0   \n",
            "4         590000.0    2405000.0     712500.0     485000.0    2800000.0   \n",
            "5         397500.0     407000.0     432000.0     342500.0     249000.0   \n",
            "...            ...          ...          ...          ...          ...   \n",
            "34751     360000.0     348500.0     475000.0     297475.0     350000.0   \n",
            "34752      96000.0     189500.0     125000.0     127000.0     120000.0   \n",
            "34753     150000.0     168500.0     217500.0     156000.0     305995.0   \n",
            "34754     170000.0     136122.5     133000.0     106500.0     130000.0   \n",
            "34755     173200.0     177750.0     188500.0     173000.0     170000.0   \n",
            "\n",
            "       median_17Q4  median_18Q1  median_18Q2  median_18Q3  median_18Q4  \n",
            "1        2150000.0     900000.0     825000.0     695000.0     806000.0  \n",
            "2         776774.0     720000.0     617500.0     870000.0     997000.0  \n",
            "3         750000.0     702500.0     655250.0     730000.0     683500.0  \n",
            "4         375000.0     790000.0      20000.0     171849.0     233750.0  \n",
            "5         415000.0     300000.0     400000.0     240000.0     430000.0  \n",
            "...            ...          ...          ...          ...          ...  \n",
            "34751     340000.0     284000.0     285000.0     429950.0     118000.0  \n",
            "34752      80000.0     802500.0     275000.0     130000.0      60000.0  \n",
            "34753     291997.5     314995.0     163000.0     202497.5     183500.0  \n",
            "34754     138000.0     116500.0     127000.0     152500.0     155000.0  \n",
            "34755     180000.0     158500.0     213600.0     205000.0     174000.0  \n",
            "\n",
            "[34755 rows x 98 columns]\n"
          ]
        },
        {
          "output_type": "execute_result",
          "data": {
            "text/plain": [
              "Unnamed: 0     0\n",
              "lsoa_cd        0\n",
              "median_95Q1    0\n",
              "median_95Q2    0\n",
              "median_95Q3    0\n",
              "              ..\n",
              "median_17Q4    0\n",
              "median_18Q1    0\n",
              "median_18Q2    0\n",
              "median_18Q3    0\n",
              "median_18Q4    0\n",
              "Length: 98, dtype: int64"
            ],
            "text/html": [
              "<div>\n",
              "<style scoped>\n",
              "    .dataframe tbody tr th:only-of-type {\n",
              "        vertical-align: middle;\n",
              "    }\n",
              "\n",
              "    .dataframe tbody tr th {\n",
              "        vertical-align: top;\n",
              "    }\n",
              "\n",
              "    .dataframe thead th {\n",
              "        text-align: right;\n",
              "    }\n",
              "</style>\n",
              "<table border=\"1\" class=\"dataframe\">\n",
              "  <thead>\n",
              "    <tr style=\"text-align: right;\">\n",
              "      <th></th>\n",
              "      <th>0</th>\n",
              "    </tr>\n",
              "  </thead>\n",
              "  <tbody>\n",
              "    <tr>\n",
              "      <th>Unnamed: 0</th>\n",
              "      <td>0</td>\n",
              "    </tr>\n",
              "    <tr>\n",
              "      <th>lsoa_cd</th>\n",
              "      <td>0</td>\n",
              "    </tr>\n",
              "    <tr>\n",
              "      <th>median_95Q1</th>\n",
              "      <td>0</td>\n",
              "    </tr>\n",
              "    <tr>\n",
              "      <th>median_95Q2</th>\n",
              "      <td>0</td>\n",
              "    </tr>\n",
              "    <tr>\n",
              "      <th>median_95Q3</th>\n",
              "      <td>0</td>\n",
              "    </tr>\n",
              "    <tr>\n",
              "      <th>...</th>\n",
              "      <td>...</td>\n",
              "    </tr>\n",
              "    <tr>\n",
              "      <th>median_17Q4</th>\n",
              "      <td>0</td>\n",
              "    </tr>\n",
              "    <tr>\n",
              "      <th>median_18Q1</th>\n",
              "      <td>0</td>\n",
              "    </tr>\n",
              "    <tr>\n",
              "      <th>median_18Q2</th>\n",
              "      <td>0</td>\n",
              "    </tr>\n",
              "    <tr>\n",
              "      <th>median_18Q3</th>\n",
              "      <td>0</td>\n",
              "    </tr>\n",
              "    <tr>\n",
              "      <th>median_18Q4</th>\n",
              "      <td>0</td>\n",
              "    </tr>\n",
              "  </tbody>\n",
              "</table>\n",
              "<p>98 rows × 1 columns</p>\n",
              "</div><br><label><b>dtype:</b> int64</label>"
            ]
          },
          "metadata": {},
          "execution_count": 25
        }
      ],
      "source": [
        "#load data\n",
        "voa_property_age_data = pd.read_csv('https://raw.githubusercontent.com/kzw333/GEO5990-final/main/voapropertyage.csv')\n",
        "price_data = pd.read_csv('https://raw.githubusercontent.com/kzw333/GEO5990-final/main/Median_Prices_Quarterly.csv')\n",
        "#Data Exploration\n",
        "# View the data structure\n",
        "#voa_property_age_data.head()\n",
        "#price_data.head()\n",
        "#voa_property_age_data.info()\n",
        "# Check for missing values\n",
        "#voa_property_age_data.isnull().sum()\n",
        "#price_data.isnull().sum()\n",
        "#print(price_data['lsoa_cd'].isnull().sum())\n",
        "# 删除 'lsoa_cd' 列中包含缺失值的行\n",
        "price_data = price_data.dropna(subset=['lsoa_cd'])\n",
        "# 显示删除后的结果\n",
        "#print(price_data)\n",
        "#print(price_data['lsoa_cd'].isnull().sum())\n",
        "#使用中位数填充\n",
        "price_data.iloc[:, 2:] = price_data.iloc[:, 2:].apply(lambda row: row.fillna(row.median()), axis=0)\n",
        "print(price_data)\n",
        "price_data.isnull().sum()\n",
        "\n",
        "\n",
        "\n"
      ]
    },
    {
      "cell_type": "code",
      "source": [],
      "metadata": {
        "id": "g0dbs49gICNq"
      },
      "id": "g0dbs49gICNq",
      "execution_count": null,
      "outputs": []
    },
    {
      "cell_type": "code",
      "execution_count": null,
      "id": "cb7f14ec-9555-4fe6-98db-5f1f02fe65cd",
      "metadata": {
        "id": "cb7f14ec-9555-4fe6-98db-5f1f02fe65cd"
      },
      "outputs": [],
      "source": []
    },
    {
      "cell_type": "code",
      "execution_count": null,
      "id": "bcbf02dc-73a9-4a6d-9495-580b72055c2a",
      "metadata": {
        "id": "bcbf02dc-73a9-4a6d-9495-580b72055c2a"
      },
      "outputs": [],
      "source": []
    },
    {
      "cell_type": "code",
      "execution_count": null,
      "id": "4c7a4913-7716-40c2-9734-2610041029c2",
      "metadata": {
        "id": "4c7a4913-7716-40c2-9734-2610041029c2"
      },
      "outputs": [],
      "source": []
    },
    {
      "cell_type": "markdown",
      "id": "4806cdd0-3484-45dd-b139-f36e28ce77a9",
      "metadata": {
        "id": "4806cdd0-3484-45dd-b139-f36e28ce77a9"
      },
      "source": [
        "Data Visualisation\n",
        "- Don't forget to present your final two data visualisation (one spatial and one non-spatial) and the justifications about the decisions you made whilst preparing and visualising the data."
      ]
    },
    {
      "cell_type": "code",
      "execution_count": null,
      "id": "cba9bc3e-33e2-44b1-b8a6-47242500eb32",
      "metadata": {
        "id": "cba9bc3e-33e2-44b1-b8a6-47242500eb32"
      },
      "outputs": [],
      "source": []
    },
    {
      "cell_type": "code",
      "execution_count": null,
      "id": "02f2b8d5-c223-4328-abd3-ea5a6678b910",
      "metadata": {
        "id": "02f2b8d5-c223-4328-abd3-ea5a6678b910"
      },
      "outputs": [],
      "source": []
    },
    {
      "cell_type": "markdown",
      "id": "393446de-c2bd-47d1-828a-5b60ec65b8c6",
      "metadata": {
        "id": "393446de-c2bd-47d1-828a-5b60ec65b8c6"
      },
      "source": [
        "## References\n",
        "<p><a href=\"add_url_here\">[1]</a>Footnote citation goes here</p>\n",
        "<p><a href=\"https://github.com/FrancescaPontin/GEOG5990\">[2]</a>GEOG5990M course materials</p>\n",
        "<p><a href=\"add_url_here\">[3]</a>Citation 3</p>"
      ]
    },
    {
      "cell_type": "code",
      "execution_count": null,
      "id": "e902a5a4-c810-4cb0-883d-be558f696c8b",
      "metadata": {
        "id": "e902a5a4-c810-4cb0-883d-be558f696c8b"
      },
      "outputs": [],
      "source": []
    }
  ],
  "metadata": {
    "kernelspec": {
      "display_name": "Python 3 (ipykernel)",
      "language": "python",
      "name": "python3"
    },
    "language_info": {
      "codemirror_mode": {
        "name": "ipython",
        "version": 3
      },
      "file_extension": ".py",
      "mimetype": "text/x-python",
      "name": "python",
      "nbconvert_exporter": "python",
      "pygments_lexer": "ipython3",
      "version": "3.10.12"
    },
    "colab": {
      "provenance": [],
      "include_colab_link": true
    }
  },
  "nbformat": 4,
  "nbformat_minor": 5
}